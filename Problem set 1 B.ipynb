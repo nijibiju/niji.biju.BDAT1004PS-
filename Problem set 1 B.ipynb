{
 "cells": [
  {
   "cell_type": "markdown",
   "id": "44e87cfe",
   "metadata": {},
   "source": [
    "# Question 6 Python\n",
    "\n",
    "You can turn a word into pig-Latin using the following two rules (simplified):\n",
    "• If the word starts with a consonant, move that letter to the end and append'ay'. For example, 'happy' becomes 'appyhay' and 'pencil' becomes 'encilpay'.\n",
    "• If the word starts with a vowel, simply append 'way' to the end of the word.For example, 'enter' becomes 'enterway' and 'other' becomes 'otherway' . Forour purposes, there are 5 vowels: a, e, i, o, u (so we count y as a consonant).Write a function pig() that takes a word (i.e., a string) as input and returns its pig-Latin form. Your function should still work if the input word contains upper casecharacters. Your output should always be lower case however."
   ]
  },
  {
   "cell_type": "code",
   "execution_count": 3,
   "id": "9c92fdc8",
   "metadata": {},
   "outputs": [
    {
     "name": "stdout",
     "output_type": "stream",
     "text": [
      "appyhay\n",
      "enterway\n",
      "inkway\n",
      "ineapplepay\n",
      "orangeway\n"
     ]
    }
   ],
   "source": [
    "def pig(word):\n",
    "    word = word.lower()\n",
    "    vowels = ['a','e','i','o','u']\n",
    "    if word[0] in vowels:\n",
    "        pig_latin_word = word + 'way'\n",
    "    else:\n",
    "        for index, letter in enumerate(word):\n",
    "            if letter in vowels:\n",
    "                break\n",
    "        pig_latin_word = word[index:] + word[:index] + 'ay'\n",
    "        \n",
    "    return pig_latin_word\n",
    "print(pig(\"Happy\"))\n",
    "print(pig(\"Enter\"))\n",
    "print(pig(\"Ink\"))\n",
    "print(pig(\"Pineapple\"))\n",
    "print(pig(\"Orange\"))"
   ]
  },
  {
   "cell_type": "markdown",
   "id": "6e365e3f",
   "metadata": {},
   "source": [
    "# Question 7 Python\n",
    "\n",
    "File bloodtype1.txt records blood-types of patients (A, B, AB, O or OO) at a clinic.Write a function bldcount() that reads the file with name name and reports (i.e.,prints) how many patients there are in each bloodtype"
   ]
  },
  {
   "cell_type": "code",
   "execution_count": 7,
   "id": "74b21adc",
   "metadata": {},
   "outputs": [
    {
     "name": "stdout",
     "output_type": "stream",
     "text": [
      "There are 15 patients with blood group A \n",
      "There are 1 patients with blood group B \n",
      "There are 13 patients with blood group AB \n",
      "There are 15 patients with blood group O \n",
      "There are 0 patients with blood group OO \n"
     ]
    }
   ],
   "source": [
    "def bldcount(get_file_name):\n",
    " f = open(get_file_name,\"r\")\n",
    " get_data = f.read()\n",
    " get_count = 0\n",
    " covert_array = get_data.split()\n",
    " base_data = ['A','B','AB','O','OO']\n",
    " for x in base_data:\n",
    "    get_count = covert_array.count(x)\n",
    "    print(\"There are {0} patients with blood group {1} \".format (get_count,x))\n",
    "bldcount(r'C:\\Users\\nijib\\downloads\\bloodtype1.txt')\n",
    " "
   ]
  },
  {
   "cell_type": "markdown",
   "id": "6e2d921f",
   "metadata": {},
   "source": [
    "# Question 8 Python\n",
    "\n",
    "Write a function curconv() that takes as input:1. a currency represented using a string (e.g., 'JPY' for the Japanese Yen or'EUR' for the Euro)2. an amountand then converts and returns the amount in US dollars"
   ]
  },
  {
   "cell_type": "code",
   "execution_count": 39,
   "id": "6f2ce167",
   "metadata": {},
   "outputs": [
    {
     "name": "stdout",
     "output_type": "stream",
     "text": [
      "300 AUD is equivalent to 310.354710 USD\n"
     ]
    }
   ],
   "source": [
    "def curconv(currency, amount):\n",
    "    exchange_rates = { 'AUD': 1.0345157, 'CHF': 1.0237414, 'CNY': 0.1550176, 'DKK': 0.1651442, 'EUR': 1.2296544, 'GBP': 1.5550989, 'HKD': 0.1270207, 'INR': 0.0177643, 'JPY': 0.01241401,'MXN': 0.0751848, 'MYR' : 0.3145411, 'NOK': 0.1677063, 'NZD': 0.8003591, 'PHP': 0.0233234, 'SEK': 0.148269, 'SGD': 0.788871, 'THB': 0.0313789}\n",
    "    \n",
    "    if currency in exchange_rates:\n",
    "        usd_amount = amount* exchange_rates[currency]\n",
    "        return usd_amount\n",
    "    else:\n",
    "        return \"Currency code not found in the exchange rates dictionary.\"\n",
    "amount_in_AUD = 300\n",
    "usd_equivalent= curconv('AUD',amount_in_AUD)\n",
    "if isinstance(usd_equivalent, float):\n",
    "    print(f\"{amount_in_AUD} AUD is equivalent to {usd_equivalent:2f} USD\")\n",
    "else:\n",
    "    print(usd_equivalent)\n",
    "    "
   ]
  },
  {
   "cell_type": "markdown",
   "id": "4eb65ff3",
   "metadata": {},
   "source": [
    "# Question 9 Python\n",
    "\n",
    "\n",
    "Each of the following will cause an exception (an error). Identify what type ofexception each will cause."
   ]
  },
  {
   "cell_type": "markdown",
   "id": "4cd74d6b",
   "metadata": {},
   "source": [
    "Trying to add incompatible variables, as in adding 6 + ‘a’ = TYPE ERROR\n",
    "\n",
    "Referring to the 12th item of a list that has only 10 items = INDEX ERROR\n",
    "\n",
    "Using a value that is out of range for a function’s input, such as calling math.sqrt(-1.0) = VALUE ERROR\n",
    "\n",
    "Using an undeclared variable, such as print(x) when x has not been defined = NAME ERROR\n",
    "\n",
    "Trying to open a file that does not exist, such as mistyping the file name or looking in the wrong directory = FILE ERROR / NOT FOUND ERROR"
   ]
  },
  {
   "cell_type": "markdown",
   "id": "11460baf",
   "metadata": {},
   "source": [
    "# Question 10 Python\n",
    "\n",
    "Encryption is the process of hiding the meaning of a text by substituting letters in the message with other letters, according to some system. If the process is successful, no one but the intended recipient can understand the encrypted message. Cryptanalysis refers to attempts to undo the encryption, even if some details of the encryption are unknown (for example, if an encrypted message has been intercepted). The first step of cryptanalysis is often to build up a table of letter frequencies in the encrypted text.\n",
    "Assume that the string letters is already defined as'abcdefghijklmnopqrstuvwxyz'. Write a function called frequencies()that takes a string as its only parameter, and returns a list of integers, showing the number of times each character appears in the text. Your function may ignore any characters that are not in letter"
   ]
  },
  {
   "cell_type": "code",
   "execution_count": 37,
   "id": "f6994c5a",
   "metadata": {},
   "outputs": [
    {
     "name": "stdout",
     "output_type": "stream",
     "text": [
      "[1, 1, 1, 3, 5, 1, 1, 2, 1, 0, 1, 0, 1, 2, 4, 0, 1, 2, 0, 2, 1, 0, 1, 1, 0, 0]\n",
      "[1, 0, 0, 0, 1, 0, 0, 0, 0, 0, 0, 1, 0, 0, 0, 2, 0, 0, 0, 0, 0, 0, 0, 0, 0, 0]\n"
     ]
    }
   ],
   "source": [
    "def frequencies(text):\n",
    "    letters = 'abcdefghijklmnopqrstuvwxyz'\n",
    "    counts = [0]* len(letters)\n",
    "    for char in text:\n",
    "        if char in letters:\n",
    "            counts[letters.index(char)]+=1\n",
    "    return counts\n",
    "\n",
    "print(frequencies('The quick red fox got bored and went home\\n'))\n",
    "print(frequencies('apple'))"
   ]
  }
 ],
 "metadata": {
  "kernelspec": {
   "display_name": "Python 3 (ipykernel)",
   "language": "python",
   "name": "python3"
  },
  "language_info": {
   "codemirror_mode": {
    "name": "ipython",
    "version": 3
   },
   "file_extension": ".py",
   "mimetype": "text/x-python",
   "name": "python",
   "nbconvert_exporter": "python",
   "pygments_lexer": "ipython3",
   "version": "3.11.5"
  }
 },
 "nbformat": 4,
 "nbformat_minor": 5
}
