{
 "cells": [
  {
   "cell_type": "markdown",
   "id": "99b2158c",
   "metadata": {},
   "source": [
    "# Question 1 C#\n",
    "\n",
    "What data type each of the following?\n",
    "\n",
    "5      = Integer type\n",
    "5.0    = Float type\n",
    "5 > 1  = Boolean type\n",
    "'5'    = String type\n",
    "5 * 2  = Integer type\n",
    "'5'* 2  = String type\n",
    "'5' + '2' = String type\n",
    "5 / 2   = Float type\n",
    "5 % 2   = Integer type\n",
    "{5, 2, 1} = Set \n",
    "5 == 3   = Boolean type\n",
    "Pi (the number) = Float type"
   ]
  },
  {
   "cell_type": "markdown",
   "id": "15b6d2a3",
   "metadata": {},
   "source": [
    "# Question 2 C#\n",
    "\n",
    "Write (and evaluate) C# expressions that answer these questions:\n",
    "\n",
    "a. How many letters are there in 'Supercalifragilisticexpialidocious'?"
   ]
  },
  {
   "cell_type": "code",
   "execution_count": 15,
   "id": "b821f922",
   "metadata": {},
   "outputs": [
    {
     "name": "stdout",
     "output_type": "stream",
     "text": [
      "There are 34 letters in Supercalifragilisticexpialidocious\r\n"
     ]
    }
   ],
   "source": [
    "string input = \"Supercalifragilisticexpialidocious\";\n",
    "Console.WriteLine($\"There are {input.Length} letters in {input}\");"
   ]
  },
  {
   "cell_type": "markdown",
   "id": "c01c307b",
   "metadata": {},
   "source": [
    "b. Does 'Supercalifragilisticexpialidocious' contain 'ice' as a substring?"
   ]
  },
  {
   "cell_type": "code",
   "execution_count": 4,
   "id": "77db298f",
   "metadata": {},
   "outputs": [
    {
     "name": "stdout",
     "output_type": "stream",
     "text": [
      "True\r\n"
     ]
    }
   ],
   "source": [
    "string input = \"Supercalifragilisticexpialidocious\";\n",
    "bool ans = input.Contains(\"ice\");\n",
    "Console.WriteLine(ans);"
   ]
  },
  {
   "cell_type": "markdown",
   "id": "17722d0e",
   "metadata": {},
   "source": [
    "c. Which of the following words is the longest:Supercalifragilisticexpialidocious, Honorificabilitudinitatibus, orBababadalgharaghtakamminarronnkonn?"
   ]
  },
  {
   "cell_type": "code",
   "execution_count": 13,
   "id": "11f79203",
   "metadata": {},
   "outputs": [
    {
     "name": "stdout",
     "output_type": "stream",
     "text": [
      "The longest word is orBababadalgharaghtakamminarronnkonn\r\n"
     ]
    }
   ],
   "source": [
    "string word1 = \"Supercalifragilisticexpialidocious\";\n",
    "string word2 = \"Honorificabilitudinitatibus\";\n",
    "string word3 = \"orBababadalgharaghtakamminarronnkonn\";\n",
    "\n",
    "int length1 = word1.Length;\n",
    "int length2 = word2.Length;\n",
    "int length3 = word3.Length;\n",
    "\n",
    "string longestWords = \"\";\n",
    "int maxLength = 0;\n",
    "\n",
    "\n",
    "\n",
    "if (length1 >= maxLength)\n",
    "{\n",
    "  if (length1 > maxLength)\n",
    "  {\n",
    "    maxLength = length1;\n",
    "    longestWords = word1;\n",
    "  }\n",
    "  else\n",
    "  {\n",
    "    longestWords += \", \" + word1;\n",
    "  }\n",
    "\n",
    "}\n",
    "\n",
    "if (length2 >= maxLength)\n",
    "{\n",
    "   if (length2 > maxLength)\n",
    "   {\n",
    "      maxLength = length2; \n",
    "      longestWords = word2;\n",
    "   }\n",
    "   else\n",
    "   {\n",
    "      longestWords += \",\" + word2;\n",
    "   }\n",
    "}\n",
    "\n",
    "if (length3 >= maxLength)\n",
    "{\n",
    "   if (length3 > maxLength)\n",
    "   {\n",
    "     maxLength = length3;\n",
    "     longestWords = word3;\n",
    "   }\n",
    "   else\n",
    "   {\n",
    "      longestWords += \",\" + word3;\n",
    "   }\n",
    "}\n",
    "Console.WriteLine(\"The longest word is \" + longestWords);"
   ]
  },
  {
   "cell_type": "markdown",
   "id": "c6b45f7c",
   "metadata": {},
   "source": [
    "d. Which composer comes first in the dictionary: 'Berlioz', 'Borodin', 'Brian','Bartok', 'Bellini', 'Buxtehude', 'Bernstein'. Which one comes last?"
   ]
  },
  {
   "cell_type": "code",
   "execution_count": 17,
   "id": "075225a6",
   "metadata": {},
   "outputs": [
    {
     "name": "stdout",
     "output_type": "stream",
     "text": [
      "The first composer in the dictionary is Bartok\n",
      "The last composer in the dictionary is Buxtehude\n"
     ]
    }
   ],
   "source": [
    "string[] composers = {\"Berlioz\", \"Borodin\", \"Brian\", \"Bartok\", \"Bellini\", \"Buxtehude\", \"Bernstein\"};\n",
    "string composer1 = composers[0];\n",
    "string composer2 = composers[0];\n",
    "foreach (string comp in composers)\n",
    "{\n",
    "    if(string.Compare(comp, composer1)<0)\n",
    "      {\n",
    "         composer1 = comp;\n",
    "      }\n",
    "            else if (string.Compare(comp, composer2)>0)\n",
    "            {\n",
    "                 composer2 = comp;\n",
    "            }\n",
    "\n",
    "}\n",
    "\n",
    "Console.WriteLine(\"The first composer in the dictionary is \" + composer1);\n",
    "Console.WriteLine(\"The last composer in the dictionary is \" + composer2);"
   ]
  },
  {
   "cell_type": "markdown",
   "id": "6d1ddf75",
   "metadata": {},
   "source": [
    "# Question 3 C#\n",
    "\n",
    "Implement function triangleArea(a,b,c) that takes as input the lengths of the 3sides of a triangle and returns the area of the triangle.\n",
    "By Heron's formula, the area of a triangle with side lengths a, b, and c is s(s - a)(s - b)(s - c) , \n",
    "where s = (a + b + c) /2."
   ]
  },
  {
   "cell_type": "code",
   "execution_count": 29,
   "id": "0d7baf94",
   "metadata": {},
   "outputs": [
    {
     "name": "stdout",
     "output_type": "stream",
     "text": [
      "Area of the triangle(2,2,2)=1.7320508075688772\r\n"
     ]
    }
   ],
   "source": [
    "int a = 2;\n",
    "int b = 2;\n",
    "int c = 2;\n",
    "s = (a+b+c)/2;\n",
    "triangleArea = Math.Sqrt(s*(s-a)*(s-b)*(s-c));\n",
    "Console.WriteLine($\"Area of the triangle({a},{b},{c})={triangleArea}\");\n"
   ]
  },
  {
   "cell_type": "markdown",
   "id": "fde25d9b",
   "metadata": {},
   "source": [
    "# Question 4 C#\n",
    "\n",
    "Write a program in C# Sharp to separate odd and even integers in separate arrays.\n",
    "Go to the editor\n",
    "Test Data :\n",
    "Input the number of elements to be stored in the array :5 \n",
    "Input 5 elements in the array :\n",
    "element - 0 : 25\n",
    "element - 1 : 47\n",
    "element - 2 : 42\n",
    "element - 3 : 56\n",
    "element - 4 : 32"
   ]
  },
  {
   "cell_type": "code",
   "execution_count": 36,
   "id": "0575daa6",
   "metadata": {},
   "outputs": [
    {
     "name": "stdout",
     "output_type": "stream",
     "text": [
      "The Even elements are:\n",
      "42\n",
      "56\n",
      "32\n",
      "The Odd elements are:\n",
      "25\n",
      "47\n"
     ]
    }
   ],
   "source": [
    "int[] array = {25,47,42,56,32};\n",
    "\n",
    "int[] oddArray = new int[2];\n",
    "int[] evenArray = new int[3];\n",
    "\n",
    "int odd = 0;\n",
    "int even = 0;\n",
    "foreach (int num in array)\n",
    "{\n",
    "   if (num % 2 == 0)\n",
    "      {  \n",
    "        evenArray[even] = num;\n",
    "        even++;\n",
    "      }\n",
    "   else\n",
    "      {\n",
    "        oddArray[odd] = num;\n",
    "        odd++;\n",
    "      }\n",
    "}\n",
    "\n",
    "Console.WriteLine(\"The Even elements are:\");\n",
    "for (int i = 0; i< evenArray.Length; i++)\n",
    "         {\n",
    "            Console.WriteLine(evenArray[i]);\n",
    "         }\n",
    "         \n",
    "Console.WriteLine(\"The Odd elements are:\");\n",
    "for (int i = 0; i< oddArray.Length; i++)\n",
    "         {\n",
    "            Console.WriteLine(oddArray[i]);\n",
    "         }\n"
   ]
  },
  {
   "cell_type": "markdown",
   "id": "057770c8",
   "metadata": {},
   "source": [
    "# Question 5 C#\n",
    "\n",
    "a. Write a function inside(x,y,x1,y1,x2,y2) that returns True or Falsedepending on whether the point (x,y) lies in the rectangle with lower leftcorner (x1,y1) and upper right corner (x2,y2)"
   ]
  },
  {
   "cell_type": "code",
   "execution_count": 37,
   "id": "141c408e",
   "metadata": {},
   "outputs": [
    {
     "name": "stdout",
     "output_type": "stream",
     "text": [
      "Inside (1,1,0,0,2,3):True\n",
      "Inside (-1,-1,0,0,2,3): False\n"
     ]
    }
   ],
   "source": [
    "static bool inside(double x, double y, double x1, double y1, double x2, double y2)\n",
    "      {\n",
    "         return (x>=x1 && x<=x2 && y1<=y && y<=y2);\n",
    "      }\n",
    "bool insideRect1 = inside(1,1,0,0,2,3);\n",
    "bool insideRect2 = inside(-1,-1,0,0,2,3);\n",
    "\n",
    "if (insideRect1)\n",
    "{\n",
    "  Console.WriteLine($\"Inside (1,1,0,0,2,3):True\");\n",
    "}\n",
    "else\n",
    "{\n",
    "  Console.WriteLine($\"Inside (1,1,0,0,2,3): False\");\n",
    "}\n",
    "if (insideRect2)\n",
    "{\n",
    "  Console.WriteLine($\"Inside (-1,-1,0,0,2,3): True\");\n",
    "}\n",
    "else\n",
    "{\n",
    "  Console.WriteLine($\"Inside (-1,-1,0,0,2,3): False\");\n",
    "}"
   ]
  },
  {
   "cell_type": "markdown",
   "id": "1d6412cd",
   "metadata": {},
   "source": [
    "b. Use function inside() from part a. to write an expression that tests whetherthe point (1,1) lies in both of the following rectangles:\n",
    "one with lower leftcorner (0.3, 0.5) and upper right corner (1.1, 0.7) and \n",
    "the other with lowerleft corner (0.5, 0.2) and upper right corner (1.1, 2)."
   ]
  },
  {
   "cell_type": "code",
   "execution_count": 38,
   "id": "25a28ec6",
   "metadata": {},
   "outputs": [
    {
     "name": "stdout",
     "output_type": "stream",
     "text": [
      "The point (1,1) is not lies inside the rectangle 1 and rectangle 2\r\n"
     ]
    }
   ],
   "source": [
    "static bool inside(double x, double y, double x1, double y1, double x2, double y2)\n",
    "      {\n",
    "         return (x>=x1 && x<=x2 && y1<=y && y<=y2);\n",
    "      }\n",
    "bool insideRect1 = inside(1,1,0.3,0.5,1.1,0.7);\n",
    "bool insideRect2 = inside(1,1,0.5,0.2,1.1,2);\n",
    "\n",
    "if (insideRect1 && insideRect2)\n",
    "{\n",
    "  Console.WriteLine($\"The point (1,1) lies inside the rectangle 1 and rectangle 2\");\n",
    "}\n",
    "else\n",
    "{\n",
    "  Console.WriteLine($\"The point (1,1) is not lies inside the rectangle 1 and rectangle 2\");\n",
    "}"
   ]
  }
 ],
 "metadata": {
  "kernelspec": {
   "display_name": ".NET (C#)",
   "language": "C#",
   "name": ".net-csharp"
  },
  "language_info": {
   "file_extension": ".cs",
   "mimetype": "text/x-csharp",
   "name": "C#",
   "pygments_lexer": "csharp",
   "version": "8.0"
  }
 },
 "nbformat": 4,
 "nbformat_minor": 5
}
